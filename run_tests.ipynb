{
 "cells": [
  {
   "cell_type": "markdown",
   "metadata": {
    "heading_collapsed": true
   },
   "source": [
    "# Imports and loading data"
   ]
  },
  {
   "cell_type": "code",
   "execution_count": 1,
   "metadata": {
    "hidden": true
   },
   "outputs": [
    {
     "name": "stdout",
     "output_type": "stream",
     "text": [
      "DONE\n"
     ]
    }
   ],
   "source": [
    "import numpy as np\n",
    "import os, time\n",
    "import matplotlib.pyplot as plt\n",
    "import pickle as pkl\n",
    "from ESN.ESN import ESN, LCESN, EESN, DHESN\n",
    "from MackeyGlass.MackeyGlassGenerator import run\n",
    "from Helper.utils import nrmse, _DEFAULT_SPECS_\n",
    "from ipywidgets import IntProgress\n",
    "from IPython.display import display\n",
    "\n",
    "data = np.array(run(21100)).reshape(-1, 1)\n",
    "split = 20000\n",
    "X_train = data[:split-1]\n",
    "y_train = data[1:split]\n",
    "valid_data = data[split:].squeeze()\n",
    "\n",
    "data_mean = np.mean(data.squeeze())\n",
    "\n",
    "# zero the data (for PCA)\n",
    "X_train -= data_mean\n",
    "y_train -= data_mean\n",
    "valid_data -= data_mean"
   ]
  },
  {
   "cell_type": "markdown",
   "metadata": {
    "heading_collapsed": true
   },
   "source": [
    "# Test methods"
   ]
  },
  {
   "cell_type": "code",
   "execution_count": 6,
   "metadata": {
    "hidden": true
   },
   "outputs": [],
   "source": [
    "def run_test(esn_class, all_results, specs, n_runs=50, show_plots=False, fname=None):\n",
    "    \"\"\"\n",
    "    Generic method running tests on ESN.\n",
    "    \n",
    "    (ESN.LayeredESN)    esn_class: choose from [ESN, LCESN, DHESN, EESN].\n",
    "              (dict)  all_results: dictionary to save results in.\n",
    "              (dict)        specs: network specifications dictionary.\n",
    "               (str)        fname: filename to save results under.\n",
    "    \"\"\"\n",
    "    assert esn_class in [ESN, LCESN, EESN, DHESN]\n",
    "    \n",
    "    echo_params = specs['echo_params']\n",
    "    regulariser = specs['regulariser']\n",
    "    num_reservoirs = specs['num_reservoirs']\n",
    "    reservoir_sizes = specs['reservoir_sizes']\n",
    "    in_weights = specs['in_weights']\n",
    "    res_weights = specs['res_weights']\n",
    "    \n",
    "    in_notebook = os.environ['_'][-7:] == 'jupyter'\n",
    "    \n",
    "    if in_notebook:\n",
    "        progress_bar = IntProgress(value=0, min=0, max=n_runs)\n",
    "        display(progress_bar)\n",
    "        \n",
    "    results = []\n",
    "    start_time = time.time()\n",
    "    for run_num in range(n_runs):\n",
    "        if not in_notebook:\n",
    "            print('Run %d' % (run_num+1))\n",
    "        # create and train model\n",
    "        lcesn = esn_class(1, 1, num_reservoirs, reservoir_sizes, echo_params, \n",
    "                      regulariser=regulariser)\n",
    "        lcesn.initialize_input_weights(\n",
    "            strategies=in_weights['strategies'], scales=in_weights['scales'],\n",
    "            offsets=in_weights['offsets']\n",
    "        )\n",
    "        lcesn.initialize_reservoir_weights(\n",
    "            strategies=res_weights['strategies'], spectral_scales=res_weights['spectral_scales'],\n",
    "            offsets=res_weights['offsets']\n",
    "        )\n",
    "        lcesn.train(X_train, y_train, debug_info=True)\n",
    "        lcesn_outputs = []\n",
    "\n",
    "        # generative tests\n",
    "        u_n = data[split-1]\n",
    "        for _ in range(len(valid_data)):\n",
    "            u_n = lcesn.forward(u_n)\n",
    "            lcesn_outputs.append(u_n)\n",
    "\n",
    "        lcesn_outputs = np.array(lcesn_outputs).squeeze()\n",
    "\n",
    "        error = nrmse(valid_data, lcesn_outputs, data_mean)\n",
    "        print('NRMSE: %f\\n' % error)\n",
    "        results.append(error)\n",
    "        \n",
    "        if show_plots:\n",
    "            f, ax = plt.subplots(figsize=(12, 10))\n",
    "            xs = range(len(valid_data))\n",
    "            ax.plot(xs, lcesn_outputs, label='Generated')\n",
    "            ax.plot(xs, valid_data, label='True')\n",
    "            plt.legend()\n",
    "            plt.show()\n",
    "            raw_input()\n",
    "        \n",
    "        if in_notebook:\n",
    "            if run_num == n_runs - 1:\n",
    "                progress_bar.close()\n",
    "            else:\n",
    "                progress_bar.value += 1\n",
    "\n",
    "    total_time = time.time() - start_time\n",
    "    print('Took %.3f seconds' % total_time)\n",
    "    n_runs = len(results)\n",
    "    key = [\n",
    "        'echo_params: %f' % echo_params, 'regulariser: %f' % regulariser,\n",
    "        'num_reservoirs: %d' % num_reservoirs, 'reservoir_sizes: %s' % reservoir_sizes,\n",
    "        'in_weights: %s' % in_weights.items(), 'res_weights: %s' % res_weights.items()\n",
    "    ]\n",
    "    for i in range(len(key)-1):\n",
    "        key[i] += '\\n'\n",
    "    key = ''.join(key)\n",
    "\n",
    "    if key not in all_results.keys():\n",
    "        all_results[key] = []\n",
    "\n",
    "    all_results[key].extend(results)\n",
    "    \n",
    "    while 1:\n",
    "        ch = raw_input('make sure you\\'re not overriding old results. (y/n)')\n",
    "        if ch == 'y':\n",
    "            if fname is None:\n",
    "                print('must provide a filename to save results')\n",
    "                break\n",
    "            elif fname[-2:] != '.p': \n",
    "                fname += '.p'\n",
    "            \n",
    "            class_str = str(esn_class)[16:-2]\n",
    "            assert class_str in ['ESN', 'DHESN', 'LCESN', 'EESN']\n",
    "            \n",
    "            pkl.dump(all_results, open('Results/%s/%s.p' % (class_str, fname), 'wb'))\n",
    "            break\n",
    "        elif ch == 'n':\n",
    "            print('okay, returning updated results dictionary instead')\n",
    "            break\n",
    "    \n",
    "    return all_results\n",
    "\n",
    "def show_nrmse_histograms(all_results, n_bins=30):\n",
    "    for k, res in all_results.items():\n",
    "        specs = k.split('\\n')\n",
    "        specs_dict = dict()\n",
    "        for s in specs:\n",
    "            #print(s)\n",
    "            if 'reservoir_sizes' in s:\n",
    "                sizes = s[s.index(':')+2:][1:-1]\n",
    "                sizes = map(int, sizes.split(','))\n",
    "            elif 'in_weights' in s or 'res_weights' in s:\n",
    "                info = s[s.index(':')+2:]\n",
    "                exec('info = dict(%s)' % info)\n",
    "                k_ = 'in_weights' if 'in_weights' in s else 'res_weights'\n",
    "                specs_dict[k_] = info\n",
    "            else:\n",
    "                k1 = \"'%s'\" % s[:s.index(':')]\n",
    "                k2 = s[s.index(':') + 2:]\n",
    "                exec('specs_dict[%s] = %s' % (k1, k2))\n",
    "\n",
    "        # Check for infs, nans\n",
    "        num_failed = 0\n",
    "        res_clean = []\n",
    "        for err in res:\n",
    "            if np.isnan(err) or np.isinf(err) or err >= 1.:\n",
    "                num_failed += 1\n",
    "            else:\n",
    "                res_clean.append(err)\n",
    "        \n",
    "        title = 'reg:%s. offset:%.1f. n_runs=%d. num_failures=%d' \\\n",
    "                    % (str(specs_dict['regulariser']), specs_dict['res_weights']['offsets'],\n",
    "                       len(res), num_failed)\n",
    "        if len(res_clean) > 0:\n",
    "            hist, bins = np.histogram(res_clean, bins=min(len(res_clean), n_bins))\n",
    "            bin_width = bins[1] - bins[0]\n",
    "\n",
    "            f, ax = plt.subplots(figsize=(12, 6))\n",
    "            ax.set_title(title)\n",
    "            ax.bar(bins[:-1], hist, width=bin_width)\n",
    "            plt.show()\n",
    "        else:\n",
    "            print('\"%s\" only yielded failures. oops' % title)\n",
    "        raw_input()"
   ]
  },
  {
   "cell_type": "markdown",
   "metadata": {},
   "source": [
    "# Run experiments"
   ]
  },
  {
   "cell_type": "code",
   "execution_count": 4,
   "metadata": {},
   "outputs": [],
   "source": [
    "all_results = pkl.load(open('Results/LCESN/7_March2.p', 'rb'))"
   ]
  },
  {
   "cell_type": "code",
   "execution_count": null,
   "metadata": {},
   "outputs": [],
   "source": [
    "specs = _DEFAULT_SPECS_\n",
    "specs['reservoir_sizes'] = [300, 230, 170, 100, 50]\n",
    "specs['spectral_scales'] = np.linspace(0.8, 0.9, 5)\n",
    "specs['in_weights']['scales'] = 0.1\n",
    "\n",
    "for k, v in specs.items():\n",
    "    print(k, v)\n",
    "\n",
    "all_results = run_test(DHESN, all_results, specs, n_runs=5, show_plots=True, \n",
    "                       fname='11_March.p')"
   ]
  },
  {
   "cell_type": "markdown",
   "metadata": {},
   "source": [
    "# NRMSE histograms"
   ]
  },
  {
   "cell_type": "code",
   "execution_count": 7,
   "metadata": {},
   "outputs": [
    {
     "data": {
      "image/png": "[encoded data removed]",
      "text/plain": [
       "<matplotlib.figure.Figure at 0x2a9bad0>"
      ]
     },
     "metadata": {},
     "output_type": "display_data"
    },
    {
     "name": "stdout",
     "output_type": "stream",
     "text": [
      "\n"
     ]
    },
    {
     "data": {
      "image/png": "[encoded data removed]",
      "text/plain": [
       "<matplotlib.figure.Figure at 0x680ad90>"
      ]
     },
     "metadata": {},
     "output_type": "display_data"
    },
    {
     "name": "stdout",
     "output_type": "stream",
     "text": [
      "\n"
     ]
    }
   ],
   "source": [
    "show_nrmse_histograms(all_results)"
   ]
  }
 ],
 "metadata": {
  "kernelspec": {
   "display_name": "Python 2",
   "language": "python",
   "name": "python2"
  },
  "language_info": {
   "codemirror_mode": {
    "name": "ipython",
    "version": 2
   },
   "file_extension": ".py",
   "mimetype": "text/x-python",
   "name": "python",
   "nbconvert_exporter": "python",
   "pygments_lexer": "ipython2",
   "version": "2.7.5"
  },
  "varInspector": {
   "cols": {
    "lenName": 16,
    "lenType": 16,
    "lenVar": 40
   },
   "kernels_config": {
    "python": {
     "delete_cmd_postfix": "",
     "delete_cmd_prefix": "del ",
     "library": "var_list.py",
     "varRefreshCmd": "print(var_dic_list())"
    },
    "r": {
     "delete_cmd_postfix": ") ",
     "delete_cmd_prefix": "rm(",
     "library": "var_list.r",
     "varRefreshCmd": "cat(var_dic_list()) "
    }
   },
   "oldHeight": 365,
   "position": {
    "height": "387px",
    "left": "514px",
    "right": "20px",
    "top": "149px",
    "width": "479px"
   },
   "types_to_exclude": [
    "module",
    "function",
    "builtin_function_or_method",
    "instance",
    "_Feature"
   ],
   "varInspector_section_display": "block",
   "window_display": false
  }
 },
 "nbformat": 4,
 "nbformat_minor": 2
}
